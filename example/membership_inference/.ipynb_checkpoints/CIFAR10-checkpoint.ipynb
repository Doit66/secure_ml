{
 "cells": [
  {
   "cell_type": "code",
   "execution_count": 1,
   "id": "progressive-richards",
   "metadata": {},
   "outputs": [],
   "source": [
    "from membership_inference import DataSet, ShadowModel, AttackerModel"
   ]
  },
  {
   "cell_type": "code",
   "execution_count": 2,
   "id": "crucial-backup",
   "metadata": {},
   "outputs": [],
   "source": [
    "import numpy as np\n",
    "import random\n",
    "import matplotlib.pyplot as plt\n",
    "import torch\n",
    "import torchvision\n",
    "import torchvision.transforms as transforms\n",
    "import torch.nn as nn\n",
    "import torch.nn.functional as F\n",
    "import torch.optim as optim\n",
    "\n",
    "from torch.utils.data.dataset import Dataset\n",
    "from torch.utils.data import DataLoader\n",
    "\n",
    "from sklearn.model_selection import train_test_split\n",
    "from sklearn.metrics import accuracy_score"
   ]
  },
  {
   "cell_type": "markdown",
   "id": "still-column",
   "metadata": {},
   "source": [
    "# Markdown"
   ]
  },
  {
   "cell_type": "code",
   "execution_count": 3,
   "id": "latest-liver",
   "metadata": {},
   "outputs": [
    {
     "name": "stdout",
     "output_type": "stream",
     "text": [
      "Files already downloaded and verified\n",
      "Files already downloaded and verified\n"
     ]
    }
   ],
   "source": [
    "# トレーニングデータをダウンロード\n",
    "trainset = torchvision.datasets.CIFAR10(root='./data', train=True, download=True)\n",
    "# テストデータをダウンロード\n",
    "testset = torchvision.datasets.CIFAR10(root='./data', train=False, download=True)"
   ]
  },
  {
   "cell_type": "code",
   "execution_count": 4,
   "id": "unable-monaco",
   "metadata": {},
   "outputs": [
    {
     "name": "stdout",
     "output_type": "stream",
     "text": [
      "(50000, 32, 32, 3) (50000,)\n",
      "(10000, 32, 32, 3) (10000,)\n"
     ]
    }
   ],
   "source": [
    "X_train = trainset.data\n",
    "y_train = np.array(trainset.targets)\n",
    "\n",
    "X_test = testset.data\n",
    "y_test = np.array(testset.targets)\n",
    "\n",
    "print(X_train.shape, y_train.shape)\n",
    "print(X_test.shape, y_test.shape)"
   ]
  },
  {
   "cell_type": "code",
   "execution_count": 10,
   "id": "responsible-reasoning",
   "metadata": {},
   "outputs": [
    {
     "name": "stdout",
     "output_type": "stream",
     "text": [
      "(2000, 32, 32, 3) (2000,)\n",
      "(1000, 32, 32, 3) (1000,)\n",
      "(1000, 32, 32, 3) (1000,)\n"
     ]
    }
   ],
   "source": [
    "\n",
    "\n",
    "victim_idx = random.sample(range(X_train.shape[0]), k=2000)\n",
    "attack_idx = random.sample(range(X_test.shape[0]), k=2000)\n",
    "shadow_idx = attack_idx[:1000]\n",
    "eval_idx = attack_idx[1000:]\n",
    "\n",
    "X_victim = X_train[victim_idx]\n",
    "y_victim = y_train[victim_idx]\n",
    "\n",
    "X_shadow = X_test[shadow_idx]\n",
    "y_shadow = y_test[shadow_idx]\n",
    "\n",
    "X_eval = X_test[eval_idx]\n",
    "y_eval = y_test[eval_idx]\n",
    "\n",
    "print(X_victim.shape, y_victim.shape)\n",
    "print(X_shadow.shape, y_shadow.shape)\n",
    "print(X_eval.shape, y_eval.shape)"
   ]
  },
  {
   "cell_type": "code",
   "execution_count": 11,
   "id": "norwegian-needle",
   "metadata": {},
   "outputs": [],
   "source": [
    "# ToTensor：画像のグレースケール化（RGBの0~255を0~1の範囲に正規化）、Normalize：Z値化（RGBの平均と標準偏差を0.5で決め打ちして正規化）\n",
    "transform = transforms.Compose([transforms.ToTensor(), transforms.Normalize((0.5, 0.5, 0.5), (0.5, 0.5, 0.5))])\n",
    "\n",
    "victimset = DataSet(X_victim, y_victim, transform=transform)\n",
    "victimloader = torch.utils.data.DataLoader(victimset, batch_size=4, shuffle=True, num_workers=2)\n",
    "\n",
    "valset = DataSet(X_eval, y_eval, transform=transform)\n",
    "valloader = torch.utils.data.DataLoader(valset, batch_size=4, shuffle=True, num_workers=2)"
   ]
  },
  {
   "cell_type": "code",
   "execution_count": 12,
   "id": "broadband-reviewer",
   "metadata": {},
   "outputs": [
    {
     "data": {
      "text/plain": [
       "(2000, 32, 32, 3)"
      ]
     },
     "execution_count": 12,
     "metadata": {},
     "output_type": "execute_result"
    }
   ],
   "source": [
    "X_victim.shape"
   ]
  },
  {
   "cell_type": "markdown",
   "id": "reserved-month",
   "metadata": {},
   "source": [
    "# Define and Train a victim Model"
   ]
  },
  {
   "cell_type": "code",
   "execution_count": 13,
   "id": "special-sperm",
   "metadata": {},
   "outputs": [],
   "source": [
    "# CNNを実装する\n",
    "class Net(nn.Module):\n",
    "    def __init__(self):\n",
    "        super(Net, self).__init__()\n",
    "        self.conv1 = nn.Conv2d(in_channels=3, out_channels=64, kernel_size=3, padding=1, stride=1)\n",
    "        self.bn1 = nn.BatchNorm2d(64)\n",
    "        self.conv2 = nn.Conv2d(64, 128, 3, padding=1) \n",
    "        self.bn2 = nn.BatchNorm2d(128)\n",
    "        self.conv3 = nn.Conv2d(128, 256, 3, padding=1)\n",
    "        self.bn3 = nn.BatchNorm2d(256)\n",
    "        self.conv4 = nn.Conv2d(256, 512, 3, padding=1)\n",
    "        self.bn4 = nn.BatchNorm2d(512)\n",
    "        self.L1 = nn.Linear(2048, 10) # 10クラス分類\n",
    "\n",
    "    def forward(self, x):\n",
    "        # 3ch > 64ch, shape 32 x 32 > 16 x 16\n",
    "        x = self.conv1(x) # [64,32,32]\n",
    "        x = self.bn1(x)\n",
    "        x = F.relu(x)\n",
    "        x = F.max_pool2d(x, 2, 2) # [64,16,16]\n",
    "        \n",
    "        # 64ch > 128ch, shape 16 x 16 > 8 x 8\n",
    "        x = self.conv2(x) # [128,16,16]\n",
    "        x = self.bn2(x)\n",
    "        x = F.relu(x)\n",
    "        x = F.max_pool2d(x, 2, 2) # [128,8,8]\n",
    "        \n",
    "        # 128ch > 256ch, shape 8 x 8 > 4 x 4\n",
    "        x = self.conv3(x) # [256,8,8]\n",
    "        x = self.bn3(x)\n",
    "        x = F.relu(x)\n",
    "        x = F.max_pool2d(x, 2, 2) # [256,4,4]   \n",
    "\n",
    "        # 256ch > 512ch, shape 4 x 4 > 2 x 2\n",
    "        x = self.conv4(x) # [512,4,4]\n",
    "        x = self.bn4(x)\n",
    "        x = F.relu(x)\n",
    "        x = F.max_pool2d(x, 2, 2) # [512,2,2]   \n",
    "        \n",
    "        # 全結合層\n",
    "        x = x.view( -1, 2048) # [256,2048]\n",
    "        x = self.L1(x)\n",
    "        #x = F.softmax(x, dim=0)\n",
    "        return x\n",
    "\n",
    "victim_net = Net()"
   ]
  },
  {
   "cell_type": "code",
   "execution_count": 14,
   "id": "delayed-mainstream",
   "metadata": {},
   "outputs": [
    {
     "name": "stdout",
     "output_type": "stream",
     "text": [
      "0.264\n",
      "0.36\n",
      "0.373\n",
      "0.385\n",
      "0.483\n",
      "0.509\n",
      "0.468\n",
      "0.467\n",
      "0.484\n",
      "0.518\n",
      "Finished Training\n",
      "0.79\n",
      "0.522\n"
     ]
    }
   ],
   "source": [
    "# 交差エントロピー\n",
    "criterion = nn.CrossEntropyLoss()\n",
    "# 確率的勾配降下法\n",
    "optimizer = optim.SGD(victim_net.parameters(), lr=0.005, momentum=0.9)\n",
    "\n",
    "for epoch in range(10):  # loop over the dataset multiple times\n",
    "\n",
    "    running_loss = 0.0\n",
    "    for i, data in enumerate(victimloader, 0):\n",
    "        # get the inputs; data is a list of [inputs, labels]\n",
    "        inputs, labels = data\n",
    "\n",
    "        # zero the parameter gradients\n",
    "        optimizer.zero_grad()\n",
    "\n",
    "        # forward + backward + optimize\n",
    "        outputs = victim_net(inputs)\n",
    "        loss = criterion(outputs, labels)\n",
    "        loss.backward()\n",
    "        optimizer.step()\n",
    "\n",
    "        # print statistics\n",
    "        running_loss += loss.item()\n",
    "        if i % 2000 == 1999:    # print every 2000 mini-batches\n",
    "            print('[%d, %5d] loss: %.3f' %\n",
    "                  (epoch + 1, i + 1, running_loss / 2000))\n",
    "            running_loss = 0.0\n",
    "\n",
    "    test_preds = []\n",
    "    test_label = []\n",
    "    with torch.no_grad():\n",
    "        for data in valloader:\n",
    "            inputs, labels = data\n",
    "            outputs = victim_net(inputs)\n",
    "            test_preds.append(outputs)\n",
    "            test_label.append(labels)  \n",
    "        test_preds = torch.cat(test_preds)\n",
    "        test_label = torch.cat(test_label)  \n",
    "\n",
    "    print(accuracy_score(np.array(torch.argmax(test_preds, axis=1)), np.array(test_label)))\n",
    "\n",
    "print('Finished Training')\n",
    "\n",
    "\n",
    "in_preds = []\n",
    "in_label = []\n",
    "with torch.no_grad():\n",
    "        for data in victimloader:\n",
    "            inputs, labels = data\n",
    "            outputs = victim_net(inputs)\n",
    "            in_preds.append(outputs)\n",
    "            in_label.append(labels)  \n",
    "        in_preds = torch.cat(in_preds)\n",
    "        in_label = torch.cat(in_label)  \n",
    "print(accuracy_score(np.array(torch.argmax(in_preds, axis=1)),\n",
    "                     np.array(in_label)))\n",
    "\n",
    "out_preds = []\n",
    "out_label = []\n",
    "with torch.no_grad():\n",
    "        for data in valloader:\n",
    "            inputs, labels = data\n",
    "            outputs = victim_net(inputs)\n",
    "            out_preds.append(outputs)\n",
    "            out_label.append(labels)  \n",
    "        out_preds = torch.cat(out_preds)\n",
    "        out_label = torch.cat(out_label)  \n",
    "print(accuracy_score(np.array(torch.argmax(out_preds, axis=1)),\n",
    "                     np.array(out_label)))"
   ]
  },
  {
   "cell_type": "markdown",
   "id": "selected-tournament",
   "metadata": {},
   "source": [
    "# Define and Train ShadowModels"
   ]
  },
  {
   "cell_type": "code",
   "execution_count": 15,
   "id": "atomic-insulation",
   "metadata": {},
   "outputs": [],
   "source": [
    "# CNNを実装する\n",
    "class Net(nn.Module):\n",
    "    def __init__(self):\n",
    "        super(Net, self).__init__()\n",
    "        self.conv1 = nn.Conv2d(in_channels=3, out_channels=64, kernel_size=3, padding=1, stride=1)\n",
    "        self.bn1 = nn.BatchNorm2d(64)\n",
    "        self.conv2 = nn.Conv2d(64, 128, 3, padding=1) \n",
    "        self.bn2 = nn.BatchNorm2d(128)\n",
    "        self.conv3 = nn.Conv2d(128, 256, 3, padding=1)\n",
    "        self.bn3 = nn.BatchNorm2d(256)\n",
    "        self.conv4 = nn.Conv2d(256, 512, 3, padding=1)\n",
    "        self.bn4 = nn.BatchNorm2d(512)\n",
    "        self.L1 = nn.Linear(2048, 10) # 10クラス分類\n",
    "\n",
    "    def forward(self, x):\n",
    "        # 3ch > 64ch, shape 32 x 32 > 16 x 16\n",
    "        x = self.conv1(x) # [64,32,32]\n",
    "        x = self.bn1(x)\n",
    "        x = F.relu(x)\n",
    "        x = F.max_pool2d(x, 2, 2) # [64,16,16]\n",
    "        \n",
    "        # 64ch > 128ch, shape 16 x 16 > 8 x 8\n",
    "        x = self.conv2(x) # [128,16,16]\n",
    "        x = self.bn2(x)\n",
    "        x = F.relu(x)\n",
    "        x = F.max_pool2d(x, 2, 2) # [128,8,8]\n",
    "        \n",
    "        # 128ch > 256ch, shape 8 x 8 > 4 x 4\n",
    "        x = self.conv3(x) # [256,8,8]\n",
    "        x = self.bn3(x)\n",
    "        x = F.relu(x)\n",
    "        x = F.max_pool2d(x, 2, 2) # [256,4,4]   \n",
    "\n",
    "        # 256ch > 512ch, shape 4 x 4 > 2 x 2\n",
    "        x = self.conv4(x) # [512,4,4]\n",
    "        x = self.bn4(x)\n",
    "        x = F.relu(x)\n",
    "        x = F.max_pool2d(x, 2, 2) # [512,2,2]   \n",
    "        \n",
    "        # 全結合層\n",
    "        x = x.view( -1, 2048) # [256,2048]\n",
    "        x = self.L1(x)\n",
    "        #x = F.softmax(x, dim=0)\n",
    "        return x"
   ]
  },
  {
   "cell_type": "code",
   "execution_count": 16,
   "id": "public-witch",
   "metadata": {},
   "outputs": [
    {
     "name": "stdout",
     "output_type": "stream",
     "text": [
      "Finished Training\n",
      "Finished Training\n",
      "Finished Training\n",
      "Finished Training\n",
      "Finished Training\n"
     ]
    }
   ],
   "source": [
    "sm = ShadowModel([Net(), Net(),Net(), Net(), Net()], 400, shadow_transform=transform)\n",
    "y_test = np.array(y_test)\n",
    "result = sm.fit_transform(X_test, y_test, num_itr=10)"
   ]
  },
  {
   "cell_type": "markdown",
   "id": "objective-provider",
   "metadata": {},
   "source": [
    "# Attacker model"
   ]
  },
  {
   "cell_type": "code",
   "execution_count": 17,
   "id": "instructional-logan",
   "metadata": {},
   "outputs": [],
   "source": [
    "from sklearn.svm import SVC\n",
    "models = [SVC(probability=True) for i in range(len(result.keys()))]\n",
    "am = AttackerModel(models)\n",
    "am.fit(result)\n",
    "\n",
    "attack_pred_in = am.predict(in_preds, in_label)\n",
    "attack_pred_out = am.predict(out_preds, out_label)"
   ]
  },
  {
   "cell_type": "code",
   "execution_count": 24,
   "id": "involved-assignment",
   "metadata": {},
   "outputs": [],
   "source": [
    "attack_pred_in_prob = am.predict_proba(in_preds, in_label)\n",
    "attack_pred_out_prob = am.predict_proba(out_preds, out_label)"
   ]
  },
  {
   "cell_type": "code",
   "execution_count": 33,
   "id": "interpreted-detail",
   "metadata": {},
   "outputs": [
    {
     "data": {
      "text/plain": [
       "0.6391530000000001"
      ]
     },
     "execution_count": 33,
     "metadata": {},
     "output_type": "execute_result"
    }
   ],
   "source": [
    "roc_auc_score(np.concatenate([np.ones_like(attack_pred_in_prob),\n",
    "                              np.zeros_like(attack_pred_out_prob)]),\n",
    "              np.concatenate([attack_pred_in_prob, attack_pred_out_prob])\n",
    "              )"
   ]
  }
 ],
 "metadata": {
  "kernelspec": {
   "display_name": "Python 3",
   "language": "python",
   "name": "python3"
  },
  "language_info": {
   "codemirror_mode": {
    "name": "ipython",
    "version": 3
   },
   "file_extension": ".py",
   "mimetype": "text/x-python",
   "name": "python",
   "nbconvert_exporter": "python",
   "pygments_lexer": "ipython3",
   "version": "3.8.6"
  }
 },
 "nbformat": 4,
 "nbformat_minor": 5
}
