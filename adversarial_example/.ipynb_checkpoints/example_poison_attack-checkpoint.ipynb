{
 "cells": [
  {
   "cell_type": "code",
   "execution_count": 1,
   "metadata": {},
   "outputs": [],
   "source": [
    "import numpy as np \n",
    "import time\n",
    "import copy\n",
    "import os\n",
    "import sklearn\n",
    "from sklearn import datasets\n",
    "from sklearn import metrics\n",
    "from sklearn.svm import SVC\n",
    "from sklearn.model_selection import train_test_split\n",
    "import matplotlib.pyplot as plt\n",
    "from tqdm import tqdm\n",
    "import copy\n",
    "import random\n",
    "\n",
    "from poison_attack import Poison_attack_sklearn"
   ]
  },
  {
   "cell_type": "code",
   "execution_count": 2,
   "metadata": {},
   "outputs": [],
   "source": [
    "X_train = np.load(\"data/X_train.npy\", allow_pickle=True) \n",
    "y_train = np.load(\"data/y_train.npy\", allow_pickle=True)\n",
    "X_valid = np.load(\"data/X_valid.npy\", allow_pickle=True)\n",
    "y_valid = np.load(\"data/y_valid.npy\", allow_pickle=True)"
   ]
  },
  {
   "cell_type": "code",
   "execution_count": 3,
   "metadata": {},
   "outputs": [
    {
     "name": "stdout",
     "output_type": "stream",
     "text": [
      "elapsed_time:4.937049627304077[sec]\n",
      "elapsed_time:0.31066179275512695[sec]\n",
      "結果\n",
      "正解率 =  0.978\n",
      "              precision    recall  f1-score   support\n",
      "\n",
      "           3       0.99      0.97      0.98       234\n",
      "           7       0.97      0.99      0.98       266\n",
      "\n",
      "    accuracy                           0.98       500\n",
      "   macro avg       0.98      0.98      0.98       500\n",
      "weighted avg       0.98      0.98      0.98       500\n",
      "\n"
     ]
    }
   ],
   "source": [
    "start = time.time() # かかった時間の計測のため計算開始時刻保存\n",
    "clf = SVC(kernel=\"linear\")\n",
    "clf.fit(X_train, y_train) # 学習\n",
    "elapsed_time = time.time() - start # 計算終了時刻から計算時間算出\n",
    "print (\"elapsed_time:{0}\".format(elapsed_time) + \"[sec]\")\n",
    "\n",
    "start = time.time()\n",
    "predict = clf.predict(X_valid) # 評価用データで予測\n",
    "elapsed_time = time.time() - start\n",
    "print (\"elapsed_time:{0}\".format(elapsed_time) + \"[sec]\")\n",
    "\n",
    "print(\"結果\")\n",
    "ac_score = metrics.accuracy_score(y_valid, predict) # 予測結果の答え合わせ\n",
    "cl_report = metrics.classification_report(y_valid, predict)\n",
    "print(\"正解率 = \", ac_score)\n",
    "print(cl_report)"
   ]
  },
  {
   "cell_type": "code",
   "execution_count": 5,
   "metadata": {},
   "outputs": [
    {
     "data": {
      "image/png": "[encoded data removed]",
      "text/plain": [
       "<Figure size 432x288 with 1 Axes>"
      ]
     },
     "metadata": {
      "needs_background": "light"
     },
     "output_type": "display_data"
    }
   ],
   "source": [
    "initial_idx = 0\n",
    "xc = X_train[initial_idx, :]\n",
    "yc = y_train[initial_idx]\n",
    "\n",
    "plt.imshow(xc.reshape(28,28),cmap='gray')\n",
    "plt.title(f\"initial point : {yc}\")\n",
    "plt.show()"
   ]
  },
  {
   "cell_type": "code",
   "execution_count": 6,
   "metadata": {},
   "outputs": [],
   "source": [
    "train_idx = random.sample(list(range(1, X_train.shape[0]))\n",
    "                          , 100)\n",
    "X_train_ = copy.copy(X_train[train_idx,:])\n",
    "y_train_ = copy.copy(y_train[train_idx])\n",
    "\n",
    "y_train_ = np.where(y_train_ == '7', 1, -1)\n",
    "y_valid_ = np.where(y_valid == '7', 1, -1)"
   ]
  },
  {
   "cell_type": "code",
   "execution_count": 7,
   "metadata": {},
   "outputs": [
    {
     "name": "stderr",
     "output_type": "stream",
     "text": [
      "100%|██████████| 200/200 [00:17<00:00, 11.13it/s]\n"
     ]
    }
   ],
   "source": [
    "attacker = Poison_attack_sklearn(clf, \n",
    "                                 X_train_, y_train_,\n",
    "                                 t=0.5)\n",
    "\n",
    "xc_attacked, log = attacker.attack(xc, 1,\n",
    "                                   X_valid, y_valid_,\n",
    "                                   num_iterations=200)"
   ]
  },
  {
   "cell_type": "code",
   "execution_count": 8,
   "metadata": {},
   "outputs": [
    {
     "data": {
      "text/plain": [
       "[<matplotlib.lines.Line2D at 0x7f684f052fd0>]"
      ]
     },
     "execution_count": 8,
     "metadata": {},
     "output_type": "execute_result"
    },
    {
     "data": {
      "image/png": "[encoded data removed]",
      "text/plain": [
       "<Figure size 432x288 with 1 Axes>"
      ]
     },
     "metadata": {
      "needs_background": "light"
     },
     "output_type": "display_data"
    }
   ],
   "source": [
    "plt.plot(log)"
   ]
  },
  {
   "cell_type": "code",
   "execution_count": 9,
   "metadata": {},
   "outputs": [
    {
     "data": {
      "image/png": "[encoded data removed]",
      "text/plain": [
       "<Figure size 432x288 with 1 Axes>"
      ]
     },
     "metadata": {
      "needs_background": "light"
     },
     "output_type": "display_data"
    }
   ],
   "source": [
    "plt.imshow(xc_attacked.reshape(28,28),cmap='gray')\n",
    "plt.title(\"After Attack\")\n",
    "plt.show()"
   ]
  },
  {
   "cell_type": "code",
   "execution_count": 10,
   "metadata": {},
   "outputs": [
    {
     "data": {
      "text/plain": [
       "0.97"
      ]
     },
     "execution_count": 10,
     "metadata": {},
     "output_type": "execute_result"
    }
   ],
   "source": [
    "clf = SVC(kernel=\"linear\", C=1)\n",
    "clf.fit(X_train_, y_train_)\n",
    "clf.score(X_valid, y_valid_)"
   ]
  },
  {
   "cell_type": "code",
   "execution_count": 12,
   "metadata": {},
   "outputs": [
    {
     "data": {
      "text/plain": [
       "0.848"
      ]
     },
     "execution_count": 12,
     "metadata": {},
     "output_type": "execute_result"
    }
   ],
   "source": [
    "# add poinsoned data\n",
    "clf = SVC(kernel=\"linear\", C=1)\n",
    "clf.fit(np.concatenate([X_train_, xc_attacked.reshape(1, -1)]),\n",
    "             np.concatenate([y_train_, [-1]]))\n",
    "clf.score(X_valid, y_valid_)"
   ]
  },
  {
   "cell_type": "code",
   "execution_count": null,
   "metadata": {},
   "outputs": [],
   "source": []
  }
 ],
 "metadata": {
  "kernelspec": {
   "display_name": "Python 3",
   "language": "python",
   "name": "python3"
  },
  "language_info": {
   "codemirror_mode": {
    "name": "ipython",
    "version": 3
   },
   "file_extension": ".py",
   "mimetype": "text/x-python",
   "name": "python",
   "nbconvert_exporter": "python",
   "pygments_lexer": "ipython3",
   "version": "3.7.6"
  }
 },
 "nbformat": 4,
 "nbformat_minor": 4
}
