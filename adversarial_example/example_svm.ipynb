{
 "cells": [
  {
   "cell_type": "code",
   "execution_count": 1,
   "metadata": {},
   "outputs": [],
   "source": [
    "import numpy as np \n",
    "import time\n",
    "import copy\n",
    "import os\n",
    "import sklearn\n",
    "from sklearn import datasets\n",
    "from sklearn import metrics\n",
    "from sklearn.svm import SVC\n",
    "from sklearn.model_selection import train_test_split\n",
    "import matplotlib.pyplot as plt\n",
    "from attack import Attack_sklearn"
   ]
  },
  {
   "cell_type": "code",
   "execution_count": 4,
   "metadata": {},
   "outputs": [
    {
     "name": "stdout",
     "output_type": "stream",
     "text": [
      "画像データ数:(70000, 784)\n",
      "ラベルデータ数:(70000,)\n",
      " \n"
     ]
    },
    {
     "data": {
      "image/png": "[encoded data removed]",
      "text/plain": [
       "<Figure size 432x288 with 10 Axes>"
      ]
     },
     "metadata": {
      "needs_background": "light"
     },
     "output_type": "display_data"
    }
   ],
   "source": [
    "mnist = datasets.fetch_openml('mnist_784', version=1, data_home=\".\", return_X_y=True)\n",
    "imagedata, labeldata = mnist[0],mnist[1]\n",
    "print(\"画像データ数:\"+str(imagedata.shape))\n",
    "print(\"ラベルデータ数:\"+str(labeldata.shape))\n",
    "print(\" \")\n",
    "for i in range(1,11): \n",
    "    plt.subplot(1,10,i) # 横並びに表示するためのおまじない\n",
    "    plt.imshow(imagedata[(i-1)*6500].reshape(28,28),cmap='gray_r')\n",
    "      # データ内から適当な間隔(6500)で拾って、gray_rで白黒反転して表示してます\n",
    "plt.show() "
   ]
  },
  {
   "cell_type": "code",
   "execution_count": 5,
   "metadata": {},
   "outputs": [
    {
     "name": "stdout",
     "output_type": "stream",
     "text": [
      "訓練画像データ数:(11547, 784)\n",
      "検証画像データ数:(2887, 784)\n",
      "訓練ラベルデータ数:(11547,)\n",
      "検証ラベルデータ数:(2887,)\n",
      "\n"
     ]
    },
    {
     "data": {
      "image/png": "[encoded data removed]",
      "text/plain": [
       "<Figure size 432x288 with 10 Axes>"
      ]
     },
     "metadata": {
      "needs_background": "light"
     },
     "output_type": "display_data"
    }
   ],
   "source": [
    "index_3 = [i for i, x in enumerate(labeldata) if x == \"3\"]\n",
    "index_7 = [i for i, x in enumerate(labeldata) if x == \"7\"]\n",
    "image_data_3_7 = imagedata[index_3 + index_7]\n",
    "label_data_3_7 = labeldata[index_3 + index_7]\n",
    "\n",
    "imagedata_training,imagedata_validation,labeldata_training,labeldata_validation = train_test_split(image_data_3_7 ,\n",
    "                                                                                                   label_data_3_7,\n",
    "                                                                                                   test_size=0.2, shuffle=True)\n",
    "print(\"訓練画像データ数:\"+str(imagedata_training.shape))\n",
    "print(\"検証画像データ数:\"+str(imagedata_validation.shape))\n",
    "print(\"訓練ラベルデータ数:\"+str(labeldata_training.shape))\n",
    "print(\"検証ラベルデータ数:\"+str(labeldata_validation.shape))\n",
    "print(\"\")\n",
    "\n",
    "for i in range(1,11): \n",
    "    plt.subplot(1,10,i) # 横並びに表示するためのおまじない\n",
    "    plt.imshow(imagedata_training[i-1].reshape(28,28),cmap='gray_r')\n",
    "plt.show() "
   ]
  },
  {
   "cell_type": "code",
   "execution_count": 6,
   "metadata": {},
   "outputs": [],
   "source": [
    " # 256階調の輝度値を0-1の値に変換しておきます\n",
    "imagedata_training = imagedata_training/255.\n",
    "imagedata_validation = imagedata_validation/255.\n",
    "\n",
    "X_train = imagedata_training[:5000]\n",
    "y_train = labeldata_training[:5000]\n",
    "X_valid = imagedata_validation[:500]\n",
    "y_valid = labeldata_validation[:500]"
   ]
  },
  {
   "cell_type": "code",
   "execution_count": 4,
   "metadata": {},
   "outputs": [],
   "source": [
    "#np.save(\"data/X_train\", X_train)\n",
    "#np.save(\"data/X_valid\", X_valid)\n",
    "#np.save(\"data/y_train\", y_train)\n",
    "#np.save(\"data/y_valid\", y_valid)\n",
    "\n",
    "X_train = np.load(\"data/X_train.npy\", allow_pickle=True) \n",
    "y_train = np.load(\"data/y_train.npy\", allow_pickle=True)\n",
    "X_valid = np.load(\"data/X_valid.npy\", allow_pickle=True)\n",
    "y_valid = np.load(\"data/y_valid.npy\", allow_pickle=True)"
   ]
  },
  {
   "cell_type": "code",
   "execution_count": 32,
   "metadata": {},
   "outputs": [
    {
     "name": "stdout",
     "output_type": "stream",
     "text": [
      "elapsed_time:2.850248098373413[sec]\n"
     ]
    }
   ],
   "source": [
    "start = time.time() # かかった時間の計測のため計算開始時刻保存\n",
    "clf = SVC(kernel=\"rbf\")\n",
    "clf.fit(X_train, y_train) # 学習\n",
    "elapsed_time = time.time() - start # 計算終了時刻から計算時間算出\n",
    "print (\"elapsed_time:{0}\".format(elapsed_time) + \"[sec]\")"
   ]
  },
  {
   "cell_type": "code",
   "execution_count": 33,
   "metadata": {},
   "outputs": [
    {
     "name": "stdout",
     "output_type": "stream",
     "text": [
      "elapsed_time:0.2908172607421875[sec]\n",
      "結果\n",
      "正解率 =  0.994\n",
      "              precision    recall  f1-score   support\n",
      "\n",
      "           3       1.00      0.99      0.99       234\n",
      "           7       0.99      1.00      0.99       266\n",
      "\n",
      "    accuracy                           0.99       500\n",
      "   macro avg       0.99      0.99      0.99       500\n",
      "weighted avg       0.99      0.99      0.99       500\n",
      "\n"
     ]
    }
   ],
   "source": [
    "start = time.time()\n",
    "predict = clf.predict(X_valid) # 評価用データで予測\n",
    "elapsed_time = time.time() - start\n",
    "print (\"elapsed_time:{0}\".format(elapsed_time) + \"[sec]\")\n",
    "\n",
    "print(\"結果\")\n",
    "ac_score = metrics.accuracy_score(y_valid, predict) # 予測結果の答え合わせ\n",
    "cl_report = metrics.classification_report(y_valid, predict)\n",
    "print(\"正解率 = \", ac_score)\n",
    "print(cl_report)"
   ]
  },
  {
   "cell_type": "code",
   "execution_count": 35,
   "metadata": {},
   "outputs": [],
   "source": [
    "X_minus_1 = X_train[np.where(y_train == \"3\")]\n",
    "attacker = Attack_sklearn(clf = clf, X_minus_1 = X_minus_1,\n",
    "                          dmax =  (5000 / 255) * 2.5,\n",
    "                          max_iter = 300,\n",
    "                          gamma = 1 / (X_train.shape[1] * np.var(X_train)),\n",
    "                          lam = 10, t = 0.5, h = 10)"
   ]
  },
  {
   "cell_type": "code",
   "execution_count": 37,
   "metadata": {},
   "outputs": [
    {
     "data": {
      "image/png": "[encoded data removed]",
      "text/plain": [
       "<Figure size 864x360 with 3 Axes>"
      ]
     },
     "metadata": {
      "needs_background": "light"
     },
     "output_type": "display_data"
    }
   ],
   "source": [
    "fig, axes= plt.subplots(1,3, figsize = (12, 5))\n",
    "\n",
    "x0 = X_valid[4]\n",
    "xm = copy.copy(x0)\n",
    "\n",
    "axes[0].imshow(x0.reshape(28,28),cmap='gray')\n",
    "axes[0].set_title(f\"original example : predicted label = {clf.predict(x0.reshape(1, -1))}\")\n",
    "\n",
    "xm, g_list = attacker.attack(x0)\n",
    "\n",
    "axes[1].plot(g_list)\n",
    "axes[1].axhline(y=0, xmin=0, xmax=300, c=\"r\")\n",
    "axes[1].set_title(\"decision_function for adversarial example\")\n",
    "\n",
    "axes[2].imshow(xm.reshape(28,28),cmap='gray')\n",
    "axes[2].set_title(f\"adversarial example : predicted label = {clf.predict(xm.reshape(1, -1))}\")\n",
    "\n",
    "fig.tight_layout()\n",
    "#fig.savefig(\"output_10.png\")\n",
    "fig.show()"
   ]
  }
 ],
 "metadata": {
  "kernelspec": {
   "display_name": "Python 3",
   "language": "python",
   "name": "python3"
  },
  "language_info": {
   "codemirror_mode": {
    "name": "ipython",
    "version": 3
   },
   "file_extension": ".py",
   "mimetype": "text/x-python",
   "name": "python",
   "nbconvert_exporter": "python",
   "pygments_lexer": "ipython3",
   "version": "3.7.6"
  }
 },
 "nbformat": 4,
 "nbformat_minor": 4
}
