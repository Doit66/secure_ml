{
 "cells": [
  {
   "cell_type": "code",
   "execution_count": 12,
   "metadata": {},
   "outputs": [],
   "source": [
    "import numpy as np \n",
    "import time\n",
    "import copy\n",
    "import os\n",
    "import sklearn\n",
    "from sklearn import datasets\n",
    "from sklearn import metrics\n",
    "from sklearn.svm import SVC\n",
    "from sklearn.model_selection import train_test_split\n",
    "import matplotlib.pyplot as plt\n",
    "\n",
    "from tqdm import tqdm\n",
    "import copy\n",
    "import random"
   ]
  },
  {
   "cell_type": "code",
   "execution_count": 13,
   "metadata": {},
   "outputs": [],
   "source": [
    "X_train = np.load(\"../data/X_train.npy\", allow_pickle=True) \n",
    "y_train = np.load(\"../data/y_train.npy\", allow_pickle=True)\n",
    "X_valid = np.load(\"../data/X_valid.npy\", allow_pickle=True)\n",
    "y_valid = np.load(\"../data/y_valid.npy\", allow_pickle=True)"
   ]
  },
  {
   "cell_type": "code",
   "execution_count": 14,
   "metadata": {},
   "outputs": [
    {
     "name": "stdout",
     "output_type": "stream",
     "text": [
      "elapsed_time:1.9873876571655273[sec]\n"
     ]
    }
   ],
   "source": [
    "start = time.time() # かかった時間の計測のため計算開始時刻保存\n",
    "clf = SVC(kernel=\"linear\")\n",
    "clf.fit(X_train, y_train) # 学習\n",
    "elapsed_time = time.time() - start # 計算終了時刻から計算時間算出\n",
    "print (\"elapsed_time:{0}\".format(elapsed_time) + \"[sec]\")"
   ]
  },
  {
   "cell_type": "code",
   "execution_count": 15,
   "metadata": {},
   "outputs": [
    {
     "name": "stdout",
     "output_type": "stream",
     "text": [
      "elapsed_time:0.12532281875610352[sec]\n",
      "結果\n",
      "正解率 =  0.978\n",
      "              precision    recall  f1-score   support\n",
      "\n",
      "           3       0.99      0.97      0.98       234\n",
      "           7       0.97      0.99      0.98       266\n",
      "\n",
      "    accuracy                           0.98       500\n",
      "   macro avg       0.98      0.98      0.98       500\n",
      "weighted avg       0.98      0.98      0.98       500\n",
      "\n"
     ]
    }
   ],
   "source": [
    "start = time.time()\n",
    "predict = clf.predict(X_valid) # 評価用データで予測\n",
    "elapsed_time = time.time() - start\n",
    "print (\"elapsed_time:{0}\".format(elapsed_time) + \"[sec]\")\n",
    "\n",
    "print(\"結果\")\n",
    "ac_score = metrics.accuracy_score(y_valid, predict) # 予測結果の答え合わせ\n",
    "cl_report = metrics.classification_report(y_valid, predict)\n",
    "print(\"正解率 = \", ac_score)\n",
    "print(cl_report)"
   ]
  },
  {
   "cell_type": "code",
   "execution_count": 16,
   "metadata": {},
   "outputs": [],
   "source": [
    "t = 0.5\n",
    "def K(xa, xb) : return xa.dot(xb.T) \n",
    "def delta_kernel(xi, xc) : return t * xi\n",
    "def delta_q(xi, xc, yi, yc):\n",
    "    d = xi.shape[1]\n",
    "    yy = np.array([(yi * yc)] * d).T\n",
    "    return yy * (delta_kernel(xi, xc))"
   ]
  },
  {
   "cell_type": "code",
   "execution_count": 17,
   "metadata": {},
   "outputs": [
    {
     "name": "stdout",
     "output_type": "stream",
     "text": [
      "(500,)\n"
     ]
    }
   ],
   "source": [
    "y_train_ = np.where(y_train == '7', 1, -1)\n",
    "y_valid_ = np.where(y_valid == '7', 1, -1)\n",
    "print(y_valid.shape)"
   ]
  },
  {
   "cell_type": "code",
   "execution_count": 18,
   "metadata": {},
   "outputs": [
    {
     "data": {
      "image/png": "[encoded data removed]",
      "text/plain": [
       "<Figure size 432x288 with 1 Axes>"
      ]
     },
     "metadata": {
      "needs_background": "light"
     },
     "output_type": "display_data"
    },
    {
     "name": "stderr",
     "output_type": "stream",
     "text": [
      "100%|██████████| 200/200 [00:07<00:00, 27.55it/s]\n"
     ]
    }
   ],
   "source": [
    "xk = X_valid\n",
    "yk = y_valid_\n",
    "\n",
    "initial_idx = 0\n",
    "xc = X_train[initial_idx, :]\n",
    "yc = y_train_[initial_idx] * -1\n",
    "\n",
    "plt.imshow(xc.reshape(28,28),cmap='gray')\n",
    "plt.title(y_train_[initial_idx])\n",
    "plt.show()\n",
    "#---------------------------\n",
    "\n",
    "num_iteration = 200\n",
    "train_idx = random.sample(list(range(X_train.shape[0]))\n",
    "                          , 100)\n",
    "log = []\n",
    "X_train_poisoned = copy.copy(X_train[train_idx,:])\n",
    "y_train_poisoned = copy.copy(y_train_[train_idx])\n",
    "for i in tqdm(range(num_iteration)):\n",
    "    \n",
    "    clf = SVC(kernel=\"linear\", C=1)\n",
    "    # add poinsoned data\n",
    "    clf.fit(np.concatenate([X_train_poisoned,\n",
    "                                       xc.reshape(1, -1)]),\n",
    "             np.concatenate([y_train_poisoned,\n",
    "                                       [yc]]))\n",
    "    log.append(clf.score(xk, yk))\n",
    "    \n",
    "    # ------------------------ #\n",
    "    xs = clf.support_vectors_\n",
    "    ys = np.concatenate([y_train_poisoned,\n",
    "                                       [yc]])[clf.support_]\n",
    "    \n",
    "    Qks = yk.reshape(-1,1).dot(ys.reshape(-1, 1).T) * K(xk, xs)\n",
    "    Qss_inv =np.linalg.inv(K(xs, xs))\n",
    "    v = Qss_inv.dot(ys)\n",
    "    zeta = ys.T.dot(v)\n",
    "    Mk = (-1/zeta) *\\\n",
    "         ((Qks)\\\n",
    "          .dot(zeta * Qss_inv - v.dot(v.T))\\\n",
    "          + yk.reshape(-1, 1).dot(v.reshape(1, -1)))\n",
    "    \n",
    "    delta_Qsc = delta_q(xs, xc.reshape, ys, yc)\n",
    "    delta_Qkc  = delta_q(xk, xc.reshape(1, -1), yk, yc)\n",
    "    \n",
    "    alpha = clf.decision_function([xc])\n",
    "    delta_L = np.sum(((Mk.dot(delta_Qsc) + delta_Qkc) * alpha),\n",
    "                     axis=0)\n",
    "    u = delta_L / np.sqrt(np.sum((delta_L ** 2)))\n",
    "    xc += t * u\n",
    "    \n",
    "    #X_train_poisoned = np.concatenate([X_train_poisoned,\n",
    "    #                                   xc.reshape(1, -1)])\n",
    "    #y_train_poisoned = np.concatenate([y_train_poisoned,\n",
    "    #                                   [yc]])"
   ]
  },
  {
   "cell_type": "code",
   "execution_count": 19,
   "metadata": {},
   "outputs": [
    {
     "data": {
      "text/plain": [
       "[<matplotlib.lines.Line2D at 0x7f45f38764d0>]"
      ]
     },
     "execution_count": 19,
     "metadata": {},
     "output_type": "execute_result"
    },
    {
     "data": {
      "image/png": "[encoded data removed]",
      "text/plain": [
       "<Figure size 432x288 with 1 Axes>"
      ]
     },
     "metadata": {
      "needs_background": "light"
     },
     "output_type": "display_data"
    }
   ],
   "source": [
    "plt.plot(log)"
   ]
  },
  {
   "cell_type": "code",
   "execution_count": 9,
   "metadata": {},
   "outputs": [
    {
     "data": {
      "text/plain": [
       "0.962"
      ]
     },
     "execution_count": 9,
     "metadata": {},
     "output_type": "execute_result"
    }
   ],
   "source": [
    "clf = SVC(kernel=\"linear\", C=1)\n",
    "clf.fit(X_train_poisoned, y_train_poisoned)\n",
    "clf.score(xk, yk)"
   ]
  },
  {
   "cell_type": "code",
   "execution_count": 20,
   "metadata": {},
   "outputs": [
    {
     "data": {
      "text/plain": [
       "0.852"
      ]
     },
     "execution_count": 20,
     "metadata": {},
     "output_type": "execute_result"
    }
   ],
   "source": [
    "clf = SVC(kernel=\"linear\", C=1)\n",
    "# add poinsoned data\n",
    "clf.fit(np.concatenate([X_train_poisoned,\n",
    "                                       xc.reshape(1, -1)]),\n",
    "             np.concatenate([y_train_poisoned,\n",
    "                                       [yc]]))\n",
    "clf.score(xk, yk)"
   ]
  },
  {
   "cell_type": "code",
   "execution_count": 21,
   "metadata": {},
   "outputs": [
    {
     "data": {
      "text/plain": [
       "<matplotlib.image.AxesImage at 0x7f45f3809350>"
      ]
     },
     "execution_count": 21,
     "metadata": {},
     "output_type": "execute_result"
    },
    {
     "data": {
      "image/png": "[encoded data removed]",
      "text/plain": [
       "<Figure size 432x288 with 1 Axes>"
      ]
     },
     "metadata": {
      "needs_background": "light"
     },
     "output_type": "display_data"
    }
   ],
   "source": [
    "plt.imshow(xc.reshape(28,28),cmap='gray')"
   ]
  },
  {
   "cell_type": "code",
   "execution_count": null,
   "metadata": {},
   "outputs": [],
   "source": []
  },
  {
   "cell_type": "code",
   "execution_count": null,
   "metadata": {},
   "outputs": [],
   "source": []
  }
 ],
 "metadata": {
  "kernelspec": {
   "display_name": "Python 3",
   "language": "python",
   "name": "python3"
  },
  "language_info": {
   "codemirror_mode": {
    "name": "ipython",
    "version": 3
   },
   "file_extension": ".py",
   "mimetype": "text/x-python",
   "name": "python",
   "nbconvert_exporter": "python",
   "pygments_lexer": "ipython3",
   "version": "3.7.6"
  }
 },
 "nbformat": 4,
 "nbformat_minor": 4
}
