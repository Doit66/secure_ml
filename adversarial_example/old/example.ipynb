{
 "cells": [
  {
   "cell_type": "code",
   "execution_count": 16,
   "metadata": {},
   "outputs": [],
   "source": [
    "import numpy as np \n",
    "import sklearn\n",
    "import copy\n",
    "from sklearn import datasets"
   ]
  },
  {
   "cell_type": "code",
   "execution_count": 1,
   "metadata": {},
   "outputs": [],
   "source": [
    "mnist = datasets.fetch_openml('mnist_784', version=1, data_home=\".\", return_X_y=True)"
   ]
  },
  {
   "cell_type": "code",
   "execution_count": 2,
   "metadata": {},
   "outputs": [
    {
     "name": "stdout",
     "output_type": "stream",
     "text": [
      "画像データ数:(70000, 784)\n",
      "ラベルデータ数:(70000,)\n"
     ]
    }
   ],
   "source": [
    "imagedata, labeldata = mnist[0],mnist[1]\n",
    "print(\"画像データ数:\"+str(imagedata.shape))\n",
    "print(\"ラベルデータ数:\"+str(labeldata.shape))"
   ]
  },
  {
   "cell_type": "code",
   "execution_count": 3,
   "metadata": {},
   "outputs": [
    {
     "data": {
      "image/png": "[encoded data removed]",
      "text/plain": [
       "<Figure size 432x288 with 10 Axes>"
      ]
     },
     "metadata": {
      "needs_background": "light"
     },
     "output_type": "display_data"
    }
   ],
   "source": [
    "import matplotlib.pyplot as plt\n",
    "for i in range(1,11): \n",
    "    plt.subplot(1,10,i) # 横並びに表示するためのおまじない\n",
    "    plt.imshow(imagedata[(i-1)*6500].reshape(28,28),cmap='gray_r')\n",
    "      # データ内から適当な間隔(6500)で拾って、gray_rで白黒反転して表示してます\n",
    "plt.show() "
   ]
  },
  {
   "cell_type": "code",
   "execution_count": 4,
   "metadata": {},
   "outputs": [],
   "source": [
    "index_3 = [i for i, x in enumerate(labeldata) if x == \"3\"]\n",
    "index_7 = [i for i, x in enumerate(labeldata) if x == \"7\"]"
   ]
  },
  {
   "cell_type": "code",
   "execution_count": 5,
   "metadata": {},
   "outputs": [],
   "source": [
    "image_data_3_7 = imagedata[index_3 + index_7]\n",
    "label_data_3_7 = labeldata[index_3 + index_7]\n",
    "#label_data_3_7 = np.where(label_data_3_7 == \"3\", 1, -1)"
   ]
  },
  {
   "cell_type": "code",
   "execution_count": 6,
   "metadata": {},
   "outputs": [
    {
     "name": "stdout",
     "output_type": "stream",
     "text": [
      "訓練画像データ数:(11547, 784)\n",
      "検証画像データ数:(2887, 784)\n",
      "訓練ラベルデータ数:(11547,)\n",
      "検証ラベルデータ数:(2887,)\n"
     ]
    }
   ],
   "source": [
    "from sklearn.model_selection import train_test_split\n",
    "imagedata_training,imagedata_validation,labeldata_training,labeldata_validation = train_test_split(image_data_3_7 ,\n",
    "                                                                                                   label_data_3_7,\n",
    "                                                                                                   test_size=0.2, shuffle=True)\n",
    "print(\"訓練画像データ数:\"+str(imagedata_training.shape))\n",
    "print(\"検証画像データ数:\"+str(imagedata_validation.shape))\n",
    "print(\"訓練ラベルデータ数:\"+str(labeldata_training.shape))\n",
    "print(\"検証ラベルデータ数:\"+str(labeldata_validation.shape))"
   ]
  },
  {
   "cell_type": "code",
   "execution_count": 7,
   "metadata": {},
   "outputs": [
    {
     "data": {
      "image/png": "[encoded data removed]",
      "text/plain": [
       "<Figure size 432x288 with 10 Axes>"
      ]
     },
     "metadata": {
      "needs_background": "light"
     },
     "output_type": "display_data"
    }
   ],
   "source": [
    "for i in range(1,11): \n",
    "    plt.subplot(1,10,i) # 横並びに表示するためのおまじない\n",
    "    plt.imshow(imagedata_training[i-1].reshape(28,28),cmap='gray_r')\n",
    "plt.show() "
   ]
  },
  {
   "cell_type": "code",
   "execution_count": 8,
   "metadata": {},
   "outputs": [],
   "source": [
    " # 256階調の輝度値を0-1の値に変換しておきます\n",
    "imagedata_training = imagedata_training/255.\n",
    "imagedata_validation = imagedata_validation/255."
   ]
  },
  {
   "cell_type": "code",
   "execution_count": 23,
   "metadata": {},
   "outputs": [],
   "source": [
    "X_train = imagedata_training[:5000]\n",
    "y_train = labeldata_training[:5000]\n",
    "X_valid = imagedata_validation[:500]\n",
    "y_valid = labeldata_validation[:500]"
   ]
  },
  {
   "cell_type": "code",
   "execution_count": 24,
   "metadata": {},
   "outputs": [
    {
     "name": "stdout",
     "output_type": "stream",
     "text": [
      "elapsed_time:3.2182090282440186[sec]\n"
     ]
    }
   ],
   "source": [
    "import os\n",
    "from sklearn.svm import SVC\n",
    "import time\n",
    "start = time.time() # かかった時間の計測のため計算開始時刻保存\n",
    "clf = SVC()\n",
    "clf.fit(X_train, y_train) # 学習\n",
    "elapsed_time = time.time() - start # 計算終了時刻から計算時間算出\n",
    "print (\"elapsed_time:{0}\".format(elapsed_time) + \"[sec]\")"
   ]
  },
  {
   "cell_type": "code",
   "execution_count": 25,
   "metadata": {},
   "outputs": [
    {
     "name": "stdout",
     "output_type": "stream",
     "text": [
      "elapsed_time:0.35275793075561523[sec]\n",
      "結果\n",
      "正解率 =  0.988\n",
      "              precision    recall  f1-score   support\n",
      "\n",
      "           3       0.99      0.99      0.99       229\n",
      "           7       0.99      0.99      0.99       271\n",
      "\n",
      "    accuracy                           0.99       500\n",
      "   macro avg       0.99      0.99      0.99       500\n",
      "weighted avg       0.99      0.99      0.99       500\n",
      "\n"
     ]
    }
   ],
   "source": [
    "from sklearn import metrics\n",
    "start = time.time()\n",
    "predict = clf.predict(X_valid) # 評価用データで予測\n",
    "elapsed_time = time.time() - start\n",
    "print (\"elapsed_time:{0}\".format(elapsed_time) + \"[sec]\")\n",
    "\n",
    "print(\"結果\")\n",
    "ac_score = metrics.accuracy_score(y_valid, predict) # 予測結果の答え合わせ\n",
    "cl_report = metrics.classification_report(y_valid, predict)\n",
    "print(\"正解率 = \", ac_score)\n",
    "print(cl_report)"
   ]
  },
  {
   "cell_type": "code",
   "execution_count": 67,
   "metadata": {},
   "outputs": [],
   "source": [
    "class Attack_sklearn:\n",
    "    def __init__(self, clf, X_minus_1, \n",
    "               dmax, max_iter, \n",
    "               gamma, lam, t, h,\n",
    "               distance=\"L1\", kde_type=\"L1\"):\n",
    "        \n",
    "        self.clf = clf\n",
    "        self.X_minus_1 = X_minus_1\n",
    "        self.dmax = dmax\n",
    "        self.max_iter = max_iter\n",
    "        self.gamma = gamma\n",
    "        self.lam = lam\n",
    "        self.t = t\n",
    "        self.h = h\n",
    "        self.kde_type = kde_type\n",
    "        \n",
    "        self.n_minus_1 = X_minus_1.shape[0]\n",
    "        \n",
    "        self.delta_g = None\n",
    "        self.distance = None\n",
    "        \n",
    "        target_type = type(clf)\n",
    "        if target_type == sklearn.svm._classes.SVC:\n",
    "            kernel = lambda xm : np.exp(-self.gamma * ((xm - self.clf.support_vectors_) ** 2))\n",
    "            self.delta_g = lambda xm : self.clf.dual_coef_.dot((-2 * self.gamma)\\\n",
    "                                                               * kernel(xm)\\\n",
    "                                                               * (xm - self.clf.support_vectors_))\n",
    "            \n",
    "        if distance == \"L1\":\n",
    "            self.distance = lambda x1, x2 : np.sum(np.abs(x1 - x2))\n",
    "            \n",
    "            \n",
    "    def _get_delta_p(self, xm):\n",
    "        if self.kde_type == \"L1\":\n",
    "            a = (-1 / (self.n_minus_1 * self.h))\n",
    "            b = np.exp(-(np.sum(np.abs(xm - self.X_minus_1), axis=1)) / self.h).dot(xm - self.X_minus_1)\n",
    "            return a * b\n",
    "            \n",
    "            \n",
    "    def _get_grad_f(self, xm, norm=\"l1\"):\n",
    "        if norm == \"l1\":\n",
    "            delta_f = self.delta_g(xm) - self.lam * self._get_delta_p(xm)\n",
    "            delta_f /= (np.sum(np.abs(delta_f)) + 1e-5)   \n",
    "\n",
    "        elif norm == \"l2\":\n",
    "            pass\n",
    "            #delta_f /= (np.sqrt(np.sum(delta_f**2, axis=0)) + 1e-5)\n",
    "            \n",
    "        return delta_f\n",
    "        \n",
    "    def attack(self, x0):\n",
    "        g_list = []\n",
    "        xm = copy.copy(x0)\n",
    "        for i in range(self.max_iter):\n",
    "            delta_f = self._get_grad_f(xm)\n",
    "            xm -= self.t * delta_f.reshape(-1)\n",
    "            d = self.distance(xm, x0)# + i * (10/255)\n",
    "            if d > self.dmax:\n",
    "                xm = x0 + ((xm - x0) / d) * self.dmax\n",
    "\n",
    "            g_list.append(clf.decision_function(xm.reshape(1, -1)))\n",
    "            \n",
    "        return xm, g_list"
   ]
  },
  {
   "cell_type": "code",
   "execution_count": 78,
   "metadata": {},
   "outputs": [],
   "source": [
    "X_minus_1 = X_train[np.where(y_train == \"3\")]\n",
    "attacker = Attack_sklearn(clf = clf, X_minus_1 = X_minus_1,\n",
    "                          dmax =  (5000 / 255) * 2.5,\n",
    "                          max_iter = 300,\n",
    "                          gamma = 1 / (X_train.shape[1] * np.var(X_train)),\n",
    "                          lam = 10, t = 0.5, h = 10)"
   ]
  },
  {
   "cell_type": "code",
   "execution_count": 79,
   "metadata": {},
   "outputs": [
    {
     "data": {
      "image/png": "[encoded data removed]",
      "text/plain": [
       "<Figure size 864x360 with 3 Axes>"
      ]
     },
     "metadata": {
      "needs_background": "light"
     },
     "output_type": "display_data"
    }
   ],
   "source": [
    "fig, axes= plt.subplots(1,3, figsize = (12, 5))\n",
    "\n",
    "x0 = X_train[-3]\n",
    "xm = copy.copy(x0)\n",
    "\n",
    "axes[0].imshow(x0.reshape(28,28),cmap='gray')\n",
    "axes[0].set_title(f\"original example : predicted label = {clf.predict(x0.reshape(1, -1))}\")\n",
    "\n",
    "xm, g_list = attacker.attack(x0)\n",
    "\n",
    "axes[1].plot(g_list)\n",
    "axes[1].axhline(y=0, xmin=0, xmax=300, c=\"r\")\n",
    "axes[1].set_title(\"decision_function for adversarial example\")\n",
    "\n",
    "axes[2].imshow(xm.reshape(28,28),cmap='gray')\n",
    "axes[2].set_title(f\"adversarial example : predicted label = {clf.predict(xm.reshape(1, -1))}\")\n",
    "\n",
    "fig.tight_layout()\n",
    "fig.savefig(\"output_10.png\")\n",
    "fig.show()"
   ]
  },
  {
   "cell_type": "code",
   "execution_count": null,
   "metadata": {},
   "outputs": [],
   "source": []
  }
 ],
 "metadata": {
  "kernelspec": {
   "display_name": "Python 3",
   "language": "python",
   "name": "python3"
  },
  "language_info": {
   "codemirror_mode": {
    "name": "ipython",
    "version": 3
   },
   "file_extension": ".py",
   "mimetype": "text/x-python",
   "name": "python",
   "nbconvert_exporter": "python",
   "pygments_lexer": "ipython3",
   "version": "3.7.6"
  }
 },
 "nbformat": 4,
 "nbformat_minor": 4
}
