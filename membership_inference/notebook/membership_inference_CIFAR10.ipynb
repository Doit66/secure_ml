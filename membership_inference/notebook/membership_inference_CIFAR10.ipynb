{
  "nbformat": 4,
  "nbformat_minor": 5,
  "metadata": {
    "kernelspec": {
      "display_name": "Python 3",
      "language": "python",
      "name": "python3"
    },
    "language_info": {
      "codemirror_mode": {
        "name": "ipython",
        "version": 3
      },
      "file_extension": ".py",
      "mimetype": "text/x-python",
      "name": "python",
      "nbconvert_exporter": "python",
      "pygments_lexer": "ipython3",
      "version": "3.8.6"
    },
    "colab": {
      "name": "membership_inference_CIFAR10.ipynb",
      "provenance": []
    },
    "accelerator": "GPU"
  },
  "cells": [
    {
      "cell_type": "code",
      "metadata": {
        "id": "progressive-richards"
      },
      "source": [
        "from membership_inference import DataSet, ShadowModel, AttackerModel, Membership_Inference"
      ],
      "id": "progressive-richards",
      "execution_count": 1,
      "outputs": []
    },
    {
      "cell_type": "code",
      "metadata": {
        "id": "crucial-backup"
      },
      "source": [
        "import numpy as np\n",
        "import random\n",
        "import matplotlib.pyplot as plt\n",
        "import torch\n",
        "import torchvision\n",
        "import torchvision.transforms as transforms\n",
        "import torch.nn as nn\n",
        "import torch.nn.functional as F\n",
        "import torch.optim as optim\n",
        "\n",
        "from torch.utils.data.dataset import Dataset\n",
        "from torch.utils.data import DataLoader\n",
        "\n",
        "from sklearn.svm import SVC\n",
        "from sklearn.model_selection import train_test_split\n",
        "from sklearn.metrics import accuracy_score, roc_auc_score"
      ],
      "id": "crucial-backup",
      "execution_count": 14,
      "outputs": []
    },
    {
      "cell_type": "markdown",
      "metadata": {
        "id": "7XFU8Q1i9OUt"
      },
      "source": [
        "# Check GPU"
      ],
      "id": "7XFU8Q1i9OUt"
    },
    {
      "cell_type": "code",
      "metadata": {
        "colab": {
          "base_uri": "https://localhost:8080/"
        },
        "id": "MPzGAOEAsQ49",
        "outputId": "04253f79-13cf-4b7f-b602-73458229a4a6"
      },
      "source": [
        "device = torch.device('cuda:0' if torch.cuda.is_available() else 'cpu')\r\n",
        "print(device)"
      ],
      "id": "MPzGAOEAsQ49",
      "execution_count": 3,
      "outputs": [
        {
          "output_type": "stream",
          "text": [
            "cuda:0\n"
          ],
          "name": "stdout"
        }
      ]
    },
    {
      "cell_type": "markdown",
      "metadata": {
        "id": "still-column"
      },
      "source": [
        "# Load data"
      ],
      "id": "still-column"
    },
    {
      "cell_type": "code",
      "metadata": {
        "colab": {
          "base_uri": "https://localhost:8080/"
        },
        "id": "latest-liver",
        "outputId": "cd0826b2-d8c6-4cfc-9596-041ed35bc5e5"
      },
      "source": [
        "# トレーニングデータをダウンロード\n",
        "trainset = torchvision.datasets.CIFAR10(root='./data', train=True, download=True)\n",
        "# テストデータをダウンロード\n",
        "testset = torchvision.datasets.CIFAR10(root='./data', train=False, download=True)"
      ],
      "id": "latest-liver",
      "execution_count": 4,
      "outputs": [
        {
          "output_type": "stream",
          "text": [
            "Files already downloaded and verified\n",
            "Files already downloaded and verified\n"
          ],
          "name": "stdout"
        }
      ]
    },
    {
      "cell_type": "code",
      "metadata": {
        "colab": {
          "base_uri": "https://localhost:8080/"
        },
        "id": "unable-monaco",
        "outputId": "39ade34e-fc84-4b4c-9efb-17b237cf61bc"
      },
      "source": [
        "X_train = trainset.data\n",
        "y_train = np.array(trainset.targets)\n",
        "\n",
        "X_test = testset.data\n",
        "y_test = np.array(testset.targets)\n",
        "\n",
        "print(X_train.shape, y_train.shape)\n",
        "print(X_test.shape, y_test.shape)"
      ],
      "id": "unable-monaco",
      "execution_count": 5,
      "outputs": [
        {
          "output_type": "stream",
          "text": [
            "(50000, 32, 32, 3) (50000,)\n",
            "(10000, 32, 32, 3) (10000,)\n"
          ],
          "name": "stdout"
        }
      ]
    },
    {
      "cell_type": "code",
      "metadata": {
        "colab": {
          "base_uri": "https://localhost:8080/"
        },
        "id": "responsible-reasoning",
        "outputId": "e2faaa79-9159-4e9b-e77f-66ea8a26cb36"
      },
      "source": [
        "victim_idx = random.sample(range(X_train.shape[0]), k=2000)\n",
        "attack_idx = random.sample(range(X_test.shape[0]), k=6000)\n",
        "shadow_idx = attack_idx[:4000]\n",
        "eval_idx = attack_idx[4000:]\n",
        "\n",
        "X_victim = X_train[victim_idx]\n",
        "y_victim = y_train[victim_idx]\n",
        "\n",
        "X_shadow = X_test[shadow_idx]\n",
        "y_shadow = y_test[shadow_idx]\n",
        "\n",
        "X_eval = X_test[eval_idx]\n",
        "y_eval = y_test[eval_idx]\n",
        "\n",
        "print(X_victim.shape, y_victim.shape)\n",
        "print(X_shadow.shape, y_shadow.shape)\n",
        "print(X_eval.shape, y_eval.shape)"
      ],
      "id": "responsible-reasoning",
      "execution_count": 6,
      "outputs": [
        {
          "output_type": "stream",
          "text": [
            "(2000, 32, 32, 3) (2000,)\n",
            "(4000, 32, 32, 3) (4000,)\n",
            "(2000, 32, 32, 3) (2000,)\n"
          ],
          "name": "stdout"
        }
      ]
    },
    {
      "cell_type": "code",
      "metadata": {
        "id": "norwegian-needle"
      },
      "source": [
        "# ToTensor：画像のグレースケール化（RGBの0~255を0~1の範囲に正規化）、Normalize：Z値化（RGBの平均と標準偏差を0.5で決め打ちして正規化）\n",
        "transform = transforms.Compose([transforms.ToTensor(), transforms.Normalize((0.5, 0.5, 0.5), (0.5, 0.5, 0.5))])\n",
        "\n",
        "victimset = DataSet(X_victim, y_victim, transform=transform)\n",
        "victimloader = torch.utils.data.DataLoader(victimset, batch_size=4, shuffle=True, num_workers=2)\n",
        "\n",
        "valset = DataSet(X_eval, y_eval, transform=transform)\n",
        "valloader = torch.utils.data.DataLoader(valset, batch_size=4, shuffle=True, num_workers=2)"
      ],
      "id": "norwegian-needle",
      "execution_count": 7,
      "outputs": []
    },
    {
      "cell_type": "code",
      "metadata": {
        "colab": {
          "base_uri": "https://localhost:8080/"
        },
        "id": "broadband-reviewer",
        "outputId": "477922c9-7921-48a0-e559-3e85ac936a5b"
      },
      "source": [
        "X_victim.shape"
      ],
      "id": "broadband-reviewer",
      "execution_count": 8,
      "outputs": [
        {
          "output_type": "execute_result",
          "data": {
            "text/plain": [
              "(2000, 32, 32, 3)"
            ]
          },
          "metadata": {
            "tags": []
          },
          "execution_count": 8
        }
      ]
    },
    {
      "cell_type": "markdown",
      "metadata": {
        "id": "reserved-month"
      },
      "source": [
        "# Define and Train a victim Model"
      ],
      "id": "reserved-month"
    },
    {
      "cell_type": "code",
      "metadata": {
        "id": "special-sperm"
      },
      "source": [
        "# CNNを実装する\n",
        "class Net(nn.Module):\n",
        "    def __init__(self):\n",
        "        super(Net, self).__init__()\n",
        "        self.conv1 = nn.Conv2d(in_channels=3, out_channels=64, kernel_size=3, padding=1, stride=1)\n",
        "        self.bn1 = nn.BatchNorm2d(64)\n",
        "        self.conv2 = nn.Conv2d(64, 128, 3, padding=1) \n",
        "        self.bn2 = nn.BatchNorm2d(128)\n",
        "        self.conv3 = nn.Conv2d(128, 256, 3, padding=1)\n",
        "        self.bn3 = nn.BatchNorm2d(256)\n",
        "        self.conv4 = nn.Conv2d(256, 512, 3, padding=1)\n",
        "        self.bn4 = nn.BatchNorm2d(512)\n",
        "        self.L1 = nn.Linear(2048, 10) # 10クラス分類\n",
        "\n",
        "    def forward(self, x):\n",
        "        # 3ch > 64ch, shape 32 x 32 > 16 x 16\n",
        "        x = self.conv1(x) # [64,32,32]\n",
        "        x = self.bn1(x)\n",
        "        x = F.relu(x)\n",
        "        x = F.max_pool2d(x, 2, 2) # [64,16,16]\n",
        "        \n",
        "        # 64ch > 128ch, shape 16 x 16 > 8 x 8\n",
        "        x = self.conv2(x) # [128,16,16]\n",
        "        x = self.bn2(x)\n",
        "        x = F.relu(x)\n",
        "        x = F.max_pool2d(x, 2, 2) # [128,8,8]\n",
        "        \n",
        "        # 128ch > 256ch, shape 8 x 8 > 4 x 4\n",
        "        x = self.conv3(x) # [256,8,8]\n",
        "        x = self.bn3(x)\n",
        "        x = F.relu(x)\n",
        "        x = F.max_pool2d(x, 2, 2) # [256,4,4]   \n",
        "\n",
        "        # 256ch > 512ch, shape 4 x 4 > 2 x 2\n",
        "        x = self.conv4(x) # [512,4,4]\n",
        "        x = self.bn4(x)\n",
        "        x = F.relu(x)\n",
        "        x = F.max_pool2d(x, 2, 2) # [512,2,2]   \n",
        "        \n",
        "        # 全結合層\n",
        "        x = x.view( -1, 2048) # [256,2048]\n",
        "        x = self.L1(x)\n",
        "        #x = F.softmax(x, dim=0)\n",
        "        return x\n",
        "\n",
        "victim_net = Net()\n",
        "victim_net = victim_net.to(device)"
      ],
      "id": "special-sperm",
      "execution_count": 9,
      "outputs": []
    },
    {
      "cell_type": "code",
      "metadata": {
        "colab": {
          "base_uri": "https://localhost:8080/"
        },
        "id": "delayed-mainstream",
        "outputId": "2407d547-a5f0-43e4-8410-a06fc5d7ae0c"
      },
      "source": [
        "# 交差エントロピー\n",
        "criterion = nn.CrossEntropyLoss()\n",
        "# 確率的勾配降下法\n",
        "optimizer = optim.SGD(victim_net.parameters(), lr=0.005, momentum=0.9)\n",
        "\n",
        "for epoch in range(20):  # loop over the dataset multiple times\n",
        "\n",
        "    running_loss = 0.0\n",
        "    for i, data in enumerate(victimloader, 0):\n",
        "        # get the inputs; data is a list of [inputs, labels]\n",
        "        inputs, labels = data\n",
        "        inputs = inputs.to(device)\n",
        "        labels = labels.to(device)\n",
        "        # zero the parameter gradients\n",
        "        optimizer.zero_grad()\n",
        "\n",
        "        # forward + backward + optimize\n",
        "        outputs = victim_net(inputs)\n",
        "        loss = criterion(outputs, labels)\n",
        "        loss.backward()\n",
        "        optimizer.step()\n",
        "\n",
        "        # print statistics\n",
        "        running_loss += loss.item()\n",
        "        if i % 2000 == 1999:    # print every 2000 mini-batches\n",
        "            print('[%d, %5d] loss: %.3f' %\n",
        "                  (epoch + 1, i + 1, running_loss / 2000))\n",
        "            running_loss = 0.0\n",
        "\n",
        "    test_preds = []\n",
        "    test_label = []\n",
        "    with torch.no_grad():\n",
        "        for data in valloader:\n",
        "            inputs, labels = data\n",
        "            inputs = inputs.to(device)\n",
        "            labels = labels.to(device)            \n",
        "            outputs = victim_net(inputs)\n",
        "            test_preds.append(outputs)\n",
        "            test_label.append(labels)  \n",
        "        test_preds = torch.cat(test_preds)\n",
        "        test_label = torch.cat(test_label)  \n",
        "\n",
        "    print(accuracy_score(torch.argmax(test_preds, axis=1).cpu().detach().numpy(),\n",
        "                         test_label.cpu().detach().numpy()))\n",
        "\n",
        "print('Finished Training')\n",
        "\n",
        "\n",
        "in_preds = []\n",
        "in_label = []\n",
        "with torch.no_grad():\n",
        "        for data in victimloader:\n",
        "            inputs, labels = data\n",
        "            inputs = inputs.to(device)\n",
        "            labels = labels.to(device)\n",
        "            outputs = victim_net(inputs)\n",
        "            in_preds.append(outputs)\n",
        "            in_label.append(labels)  \n",
        "        in_preds = torch.cat(in_preds)\n",
        "        in_label = torch.cat(in_label)  \n",
        "print(\"train_accuracy: \",\n",
        "      accuracy_score(torch.argmax(in_preds, axis=1).cpu().detach().numpy(),\n",
        "                     in_label.cpu().detach().numpy()))\n",
        "\n",
        "out_preds = []\n",
        "out_label = []\n",
        "with torch.no_grad():\n",
        "        for data in valloader:\n",
        "            inputs, labels = data\n",
        "            inputs = inputs.to(device)\n",
        "            labels = labels.to(device)\n",
        "            outputs = victim_net(inputs)\n",
        "            out_preds.append(outputs)\n",
        "            out_label.append(labels)  \n",
        "        out_preds = torch.cat(out_preds)\n",
        "        out_label = torch.cat(out_label)  \n",
        "print(\"test_accuracy: \",\n",
        "      accuracy_score(torch.argmax(out_preds, axis=1).cpu().detach().numpy(),\n",
        "                     out_label.cpu().detach().numpy()))"
      ],
      "id": "delayed-mainstream",
      "execution_count": 10,
      "outputs": [
        {
          "output_type": "stream",
          "text": [
            "0.242\n",
            "0.2905\n",
            "0.3235\n",
            "0.381\n",
            "0.3775\n",
            "0.423\n",
            "0.3825\n",
            "0.4355\n",
            "0.4405\n",
            "0.508\n",
            "0.4795\n",
            "0.49\n",
            "0.491\n",
            "0.5145\n",
            "0.5145\n",
            "0.4915\n",
            "0.5365\n",
            "0.529\n",
            "0.545\n",
            "0.521\n",
            "Finished Training\n",
            "train_accuracy:  0.9775\n",
            "test_accuracy:  0.5175\n"
          ],
          "name": "stdout"
        }
      ]
    },
    {
      "cell_type": "markdown",
      "metadata": {
        "id": "DmKyjcOI9Wy5"
      },
      "source": [
        "you can see how overfitting the victim model is for each label"
      ],
      "id": "DmKyjcOI9Wy5"
    },
    {
      "cell_type": "code",
      "metadata": {
        "colab": {
          "base_uri": "https://localhost:8080/"
        },
        "id": "EcDhr45p6w7y",
        "outputId": "97f8b636-d3a8-4ffe-88b0-5365eb18f9c7"
      },
      "source": [
        "in_pred_numpy = torch.argmax(in_preds, axis=1).cpu().detach().numpy()\r\n",
        "in_label_numpy = in_label.cpu().detach().numpy()\r\n",
        "\r\n",
        "out_pred_numpy = torch.argmax(out_preds, axis=1).cpu().detach().numpy()\r\n",
        "out_label_numpy =  out_label.cpu().detach().numpy()\r\n",
        "\r\n",
        "target_model_accuracy_per_label = {}\r\n",
        "print(\"train_accuracy - test_accuracy\")\r\n",
        "for label in np.unique(in_label_numpy):\r\n",
        "  in_label_idx = np.where(in_label_numpy == label)\r\n",
        "  out_label_idx = np.where(out_label_numpy == label)\r\n",
        "\r\n",
        "  train_score = accuracy_score(in_pred_numpy[in_label_idx],\r\n",
        "                               in_label_numpy[in_label_idx])\r\n",
        "  test_score = accuracy_score(out_pred_numpy[out_label_idx],\r\n",
        "                              out_label_numpy[out_label_idx])\r\n",
        "  \r\n",
        "  print(f\"label {label}: \", train_score - test_score)\r\n",
        "  target_model_accuracy_per_label[label] = train_score - test_score"
      ],
      "id": "EcDhr45p6w7y",
      "execution_count": 11,
      "outputs": [
        {
          "output_type": "stream",
          "text": [
            "train_accuracy - test_accuracy\n",
            "label 0:  0.3478927203065134\n",
            "label 1:  0.13661202185792354\n",
            "label 2:  0.5711050724637681\n",
            "label 3:  0.6179688192045354\n",
            "label 4:  0.6685109687439332\n",
            "label 5:  0.596062271062271\n",
            "label 6:  0.30097087378640774\n",
            "label 7:  0.4112200435729848\n",
            "label 8:  0.4129353233830846\n",
            "label 9:  0.5662777072551508\n"
          ],
          "name": "stdout"
        }
      ]
    },
    {
      "cell_type": "markdown",
      "metadata": {
        "id": "selected-tournament"
      },
      "source": [
        "# Memership inference (shadow models + attack models)"
      ],
      "id": "selected-tournament"
    },
    {
      "cell_type": "code",
      "metadata": {
        "id": "atomic-insulation"
      },
      "source": [
        "# CNNを実装する\n",
        "class Net(nn.Module):\n",
        "    def __init__(self):\n",
        "        super(Net, self).__init__()\n",
        "        self.conv1 = nn.Conv2d(in_channels=3, out_channels=64, kernel_size=3, padding=1, stride=1)\n",
        "        self.bn1 = nn.BatchNorm2d(64)\n",
        "        self.conv2 = nn.Conv2d(64, 128, 3, padding=1) \n",
        "        self.bn2 = nn.BatchNorm2d(128)\n",
        "        self.conv3 = nn.Conv2d(128, 256, 3, padding=1)\n",
        "        self.bn3 = nn.BatchNorm2d(256)\n",
        "        self.conv4 = nn.Conv2d(256, 512, 3, padding=1)\n",
        "        self.bn4 = nn.BatchNorm2d(512)\n",
        "        self.L1 = nn.Linear(2048, 10) # 10クラス分類\n",
        "\n",
        "    def forward(self, x):\n",
        "        # 3ch > 64ch, shape 32 x 32 > 16 x 16\n",
        "        x = self.conv1(x) # [64,32,32]\n",
        "        x = self.bn1(x)\n",
        "        x = F.relu(x)\n",
        "        x = F.max_pool2d(x, 2, 2) # [64,16,16]\n",
        "        \n",
        "        # 64ch > 128ch, shape 16 x 16 > 8 x 8\n",
        "        x = self.conv2(x) # [128,16,16]\n",
        "        x = self.bn2(x)\n",
        "        x = F.relu(x)\n",
        "        x = F.max_pool2d(x, 2, 2) # [128,8,8]\n",
        "        \n",
        "        # 128ch > 256ch, shape 8 x 8 > 4 x 4\n",
        "        x = self.conv3(x) # [256,8,8]\n",
        "        x = self.bn3(x)\n",
        "        x = F.relu(x)\n",
        "        x = F.max_pool2d(x, 2, 2) # [256,4,4]   \n",
        "\n",
        "        # 256ch > 512ch, shape 4 x 4 > 2 x 2\n",
        "        x = self.conv4(x) # [512,4,4]\n",
        "        x = self.bn4(x)\n",
        "        x = F.relu(x)\n",
        "        x = F.max_pool2d(x, 2, 2) # [512,2,2]   \n",
        "        \n",
        "        # 全結合層\n",
        "        x = x.view( -1, 2048) # [256,2048]\n",
        "        x = self.L1(x)\n",
        "        #x = F.softmax(x, dim=0)\n",
        "        return x"
      ],
      "id": "atomic-insulation",
      "execution_count": 12,
      "outputs": []
    },
    {
      "cell_type": "code",
      "metadata": {
        "colab": {
          "base_uri": "https://localhost:8080/"
        },
        "id": "dmHcP0AB1Fqp",
        "outputId": "d64a3497-ca7f-417d-dbb0-732e75a258fa"
      },
      "source": [
        "shadow_models = [Net().to(device),\r\n",
        "                  Net().to(device),\r\n",
        "                  Net().to(device), \r\n",
        "                  Net().to(device), \r\n",
        "                  Net().to(device)]\r\n",
        "shadow_data_size = 2000\r\n",
        "shadow_transform = transform\r\n",
        "\r\n",
        "num_label = 10\r\n",
        "attack_models = [SVC(probability=True) for i in range(10)]\r\n",
        "\r\n",
        "y_test = np.array(y_test)\r\n",
        "\r\n",
        "mi = Membership_Inference(shadow_models, attack_models,\r\n",
        "                          shadow_data_size, shadow_transform)\r\n",
        "mi.shadow(X_test, y_test, num_itr=20)\r\n",
        "mi.attack()"
      ],
      "id": "dmHcP0AB1Fqp",
      "execution_count": 15,
      "outputs": [
        {
          "output_type": "stream",
          "text": [
            "Finished Training\n",
            "Finished Training\n",
            "Finished Training\n",
            "Finished Training\n",
            "Finished Training\n"
          ],
          "name": "stdout"
        }
      ]
    },
    {
      "cell_type": "code",
      "metadata": {
        "colab": {
          "base_uri": "https://localhost:8080/"
        },
        "id": "JzEzmaIz2OIu",
        "outputId": "265cba61-c5d9-486e-8aa9-5d297afd61e4"
      },
      "source": [
        "attacked_pred_in_prob = mi.predict_proba(in_preds, in_label)\r\n",
        "attacked_pred_out_prob = mi.predict_proba(out_preds, out_label)\r\n",
        "score = roc_auc_score(np.concatenate([np.ones_like(attacked_pred_in_prob),\r\n",
        "                              np.zeros_like(attacked_pred_out_prob)]),\r\n",
        "              np.concatenate([attacked_pred_in_prob, attacked_pred_out_prob])\r\n",
        "              )\r\n",
        "\r\n",
        "print(\"overall auc is \", score)"
      ],
      "id": "JzEzmaIz2OIu",
      "execution_count": 16,
      "outputs": [
        {
          "output_type": "stream",
          "text": [
            "overall auc is  0.8498221250000001\n"
          ],
          "name": "stdout"
        }
      ]
    },
    {
      "cell_type": "code",
      "metadata": {
        "colab": {
          "base_uri": "https://localhost:8080/"
        },
        "id": "lTI4iE783jDB",
        "outputId": "4932048d-ee82-482e-9292-2f4a87c93305"
      },
      "source": [
        "in_label_numpy = in_label.cpu().numpy()\r\n",
        "out_label_numpy = out_label.cpu().numpy()\r\n",
        "\r\n",
        "attack_model_auc_per_label = {}\r\n",
        "\r\n",
        "for label in np.unique(in_label_numpy):\r\n",
        "  in_label_idx = np.where(in_label_numpy == label)\r\n",
        "  out_label_idx = np.where(out_label_numpy == label)\r\n",
        "  score = roc_auc_score(np.concatenate([np.ones_like(attacked_pred_in_prob[in_label_idx]),\r\n",
        "                                np.zeros_like(attacked_pred_out_prob[out_label_idx])]),\r\n",
        "                np.concatenate([attacked_pred_in_prob[in_label_idx],\r\n",
        "                                attacked_pred_out_prob[out_label_idx]])\r\n",
        "                )  \r\n",
        "  print(f\"label {label}: \", score)\r\n",
        "  attack_model_auc_per_label[label] = score"
      ],
      "id": "lTI4iE783jDB",
      "execution_count": 17,
      "outputs": [
        {
          "output_type": "stream",
          "text": [
            "label 0:  0.8428879310344828\n",
            "label 1:  0.7772030346437476\n",
            "label 2:  0.9329144021739131\n",
            "label 3:  0.9442931171937283\n",
            "label 4:  0.9362259755387303\n",
            "label 5:  0.8996336996336997\n",
            "label 6:  0.8685179220540193\n",
            "label 7:  0.8166303558460422\n",
            "label 8:  0.828197721072059\n",
            "label 9:  0.8695684015232887\n"
          ],
          "name": "stdout"
        }
      ]
    },
    {
      "cell_type": "code",
      "metadata": {
        "id": "qM7pCPx6_T5m"
      },
      "source": [
        "marker=\"$c$\""
      ],
      "id": "qM7pCPx6_T5m",
      "execution_count": null,
      "outputs": []
    },
    {
      "cell_type": "code",
      "metadata": {
        "colab": {
          "base_uri": "https://localhost:8080/",
          "height": 296
        },
        "id": "jUQIvNBG_U9_",
        "outputId": "e29d6f97-ea36-463e-8f78-24cf0c10f098"
      },
      "source": [
        "for i in range(10):\r\n",
        "  plt.scatter(list(target_model_accuracy_per_label.values())[i],\r\n",
        "              list(attack_model_auc_per_label.values())[i],\r\n",
        "              marker=f\"${i}$\")\r\n",
        "  \r\n",
        "  plt.title(\"overfitting - membership inference performance\")\r\n",
        "  plt.xlabel(\"victim model: trian_accuracy - test_accuracy per class\")\r\n",
        "  plt.ylabel(\"attack model: auc per class\")\r\n",
        "\r\n",
        "  plt.savefig(\"membership_inference_overfitting.png\")"
      ],
      "id": "jUQIvNBG_U9_",
      "execution_count": 28,
      "outputs": [
        {
          "output_type": "display_data",
          "data": {
            "image/png": "[encoded data removed]",
            "text/plain": [
              "<Figure size 432x288 with 1 Axes>"
            ]
          },
          "metadata": {
            "tags": [],
            "needs_background": "light"
          }
        }
      ]
    },
    {
      "cell_type": "code",
      "metadata": {
        "id": "dRjQaLkr_9O6"
      },
      "source": [
        ""
      ],
      "id": "dRjQaLkr_9O6",
      "execution_count": null,
      "outputs": []
    }
  ]
}